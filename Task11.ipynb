{
 "cells": [
  {
   "cell_type": "markdown",
   "metadata": {},
   "source": [
    "# Task 11: Labelling Relevant Regions (cont.)\n",
    "## Starting with the ACE2 TAD (chrX:15,200,000-15,800,000) and expanding the algorithm to larger regions:\n",
    "\n",
    "#### Github: [bkirsh99/genomeLabel](https://github.com/bkirsh99/genomeLabel)\n",
    "\n",
    "#### Goals:\n",
    "1) Add \"repFamily\" information to RepeatMasker data, especially for LINEs (L1 vs. L2);  \n",
    "2) Add Segway cCRE data;  \n",
    "3) Add ReMap TF data;  \n",
    "4) Reformat summary statistics output;  \n",
    "\n",
    "#### Papers:\n",
    "- https://www.biorxiv.org/content/10.1101/2020.01.30.926923v1  \n",
    "- https://www.ncbi.nlm.nih.gov/pmc/articles/PMC33995/\n",
    "\n",
    "## 1. Adding [Segway](https://segway.hoffmanlab.org/) Data:\n",
    "##### Labels:\n",
    "- Quiescent: Inactive region.  \n",
    "- ConstitutiveHet: Heterochromatin marking permanently silent regions, characterized by the histone modification H3K9me3.  \n",
    "- FacultativeHet: Heterochromatin marking regions of cell type-specific repression, characterized by the histone modification H3K27me3. Also known as Polycomb-repressed heterochromatin.  \n",
    "- Transcribed: Transcribed genic region.  \n",
    "- Promoter: Regulatory region that occurs directly upstream of transcription start sites.  \n",
    "- Enhancer: Gene-distal regulatory element.  \n",
    "- RegPermissive: Region with weak marks of regulatory activity such as H3K4me1 or DNase hypersensitivity. May or may not directly control gene expression.  \n",
    "- Bivalent: Regulatory element with marks of both activation (such as H3K27ac) and repression (H3K27me3).  \n",
    "- LowConfidance: An annotation label that the interpretation classifier could not confidently assign to one of the above categories.  \n",
    "\n",
    "**As of now, lump all elements using the encyclopedia data. In the future, take cell type as user input and output the predominant label for that element and cell type.**\n",
    "\n",
    "## 2. Adding [ReMap](http://remap.univ-amu.fr/about_hsap_page) Data:\n",
    "###### Options:\n",
    "- All peaks  \n",
    "- Non-redundant (merged) peaks  \n",
    "- Cis-regulatory modules (CRMs) - **As of now, lump all binding sites using the CRM data. In the future, take transcriptional regulator and/or biotype as user input and output the individual peaks for that regulator and cell type.**  "
   ]
  },
  {
   "cell_type": "code",
   "execution_count": null,
   "metadata": {},
   "outputs": [],
   "source": []
  }
 ],
 "metadata": {
  "kernelspec": {
   "display_name": "Python 3",
   "language": "python",
   "name": "python3"
  },
  "language_info": {
   "codemirror_mode": {
    "name": "ipython",
    "version": 3
   },
   "file_extension": ".py",
   "mimetype": "text/x-python",
   "name": "python",
   "nbconvert_exporter": "python",
   "pygments_lexer": "ipython3",
   "version": "3.8.2"
  }
 },
 "nbformat": 4,
 "nbformat_minor": 4
}
