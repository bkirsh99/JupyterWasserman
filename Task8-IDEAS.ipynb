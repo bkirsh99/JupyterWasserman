{
 "cells": [
  {
   "cell_type": "markdown",
   "metadata": {},
   "source": [
    "## [IDEAS](https://www.ncbi.nlm.nih.gov/pmc/articles/PMC5772166/): Integrative and Discriminative Epigenome Annotation System\n",
    "- Repo #1: https://github.com/guanjue/IDEAS_2018\n",
    "- Repo #2: https://github.com/yuzhang123/IDEAS\n",
    "## Repo #1: "
   ]
  },
  {
   "cell_type": "raw",
   "metadata": {},
   "source": [
    "#INSTALLATION:\n",
    "#Install GNU gsl:\n",
    "sudo apt-get install libgsl-dev\n",
    "git clone git://git.savannah.gnu.org/gsl.git\n",
    "\n",
    "\n",
    "##Install UCSC ultilities:\n",
    "rsync -aP rsync://hgdownload.soe.ucsc.edu/genome/admin/exe/linux.x86_64/ ./\n",
    "\n",
    "#Add the ~/gsl/lib into the LD_LIBRARY_PATH\n",
    "wget http://gnu.mirror.vexxhost.com/gsl/gsl-2.2.1.tar.gz\n",
    "tar -zxvf gsl-2.2.1.tar.gz\n",
    "cd gsl-2.2.1\n",
    "./configure\n",
    "make\n",
    "sudo make install\n",
    "export LD_LIBRARY_PATH=$LD_LIBRARY_PATH:/mnt/Users/bkirs/Documents/Wasserman/Task8/IDEAS_2018/gsl-2.2.1/gsl\n",
    "\n",
    "\n",
    "export LD_LIBRARY_PATH=$LD_LIBRARY_PATH:~/gsl/lib\n",
    "\n",
    "#CHANGE INPUT FILE PARAMETERS:\n",
    "head -100 run_IDEAS.parafile\n",
    "\n",
    "#Copy the 'run_IDEAS.sh' & 'run_IDEAS.parafile' into the working directory (i.e. pwd output)\n",
    "\n",
    "\n",
    "cp /mnt/c/Users/bkirs/Documents/Wasserman/Task8/IDEAS_2018-master/run_IDEAS.sh /home/bkirsh\n",
    "cp /mnt/c/Users/bkirs/Documents/Wasserman/Task8/IDEAS_2018-master/run_IDEAS.parafile /home/bkirsh \n",
    "cp /mnt/c/Users/bkirs/Documents/Wasserman/Task8/IDEAS_2018-master/run_IDEAS.input /home/bkirsh "
   ]
  },
  {
   "cell_type": "raw",
   "metadata": {},
   "source": [
    "sudo apt-get install libgsl-dev\n",
    "export LD_LIBRARY_PATH=$LD_LIBRARY_PATH:~/gsl/lib\n",
    "cd /mnt/c/Users/bkirs/Documents/Wasserman/Task8/IDEAS_2018\n",
    "head -100 run_IDEAS.parafile\n",
    "cd /mnt/c/Users/bkirs/Documents/Wasserman/Task8/IDEAS_2018/test_data\n",
    "head mm10.noblack_list.bin\n",
    "cd ..\n",
    "head run_IDEAS.input \n",
    "vi run_IDEAS.input\n",
    "#ERY_ad atac /home/bkirsh/IDEAS_2018/test_data/run_IDEAS_input/ERY_ad.atac.1M.txt                      #MEP atac /home/bkirsh/IDEAS_2018/test_data/run_IDEAS_input/MEP.atac.1M.txt                           #ERY_ad h3k27ac /home/bkirsh/IDEAS_2018/test_data/run_IDEAS_input/ERY_ad.h3k27ac.1M.txt               #MEP h3k27ac /home/bkirsh/IDEAS_2018/test_data/run_IDEAS_input/MEP.h3k27ac.1M.txt "
   ]
  },
  {
   "cell_type": "markdown",
   "metadata": {},
   "source": [
    "## Repo #2:"
   ]
  },
  {
   "cell_type": "raw",
   "metadata": {},
   "source": [
    "#In home directory:\n",
    "export LD_LIBRARY_PATH=$LD_LIBRARY_PATH:/home/bkirsh/miniconda2/lib\n",
    "wget https://github.com/yuzhang123/IDEAS/archive/f99c72c.tar.gz\n",
    "tar -xzf f99c72c.tar.gz\n",
    "cd IDEAS-f99c72cc70de4df270eaa647359e95193d02f232/bin\n",
    "tar -xzf ideas_v1.2.tar.gz\n",
    "cd ideas_tool/\n",
    "#Or directly from home directly once untarred:\n",
    "cd IDEAS-f99c72cc70de4df270eaa647359e95193d02f232/bin/ideas_tool/\n",
    "\n",
    "cd /mnt/c/Users/bkirs/Documents/Wasserman/Task8/IDEAS-Repos/IDEAS-f9\n",
    "9c72cc70de4df270eaa647359e95193d02f232/bin/ideas_tool/\n",
    "Rscript bin/runme.R example/input.data.2 example/input.para.2 outputfolder"
   ]
  },
  {
   "cell_type": "markdown",
   "metadata": {},
   "source": [
    "# Editing Files Using the Command Line:\n",
    "The most important commands in **vi** are these:  \n",
    "\n",
    "- Press **i** to enter the Insert mode. Now you can type in your text.  \n",
    "- To leave the Insert mode press **ESC**.  \n",
    "- To delete the character that is currently under the cursor you must press **x (and you must not be in Insert mode because if you are you will insert the character x instead of deleting the character under the cursor).**  \n",
    "- To exit, type **:q!** for *quitting without saving* or **:x:** for *save+quit*  \n",
    "\n",
    "# Setup CNTK on Linux: https://docs.microsoft.com/en-us/cognitive-toolkit/Setup-CNTK-on-Linux"
   ]
  },
  {
   "cell_type": "markdown",
   "metadata": {},
   "source": []
  }
 ],
 "metadata": {
  "kernelspec": {
   "display_name": "Python 3",
   "language": "python",
   "name": "python3"
  },
  "language_info": {
   "codemirror_mode": {
    "name": "ipython",
    "version": 3
   },
   "file_extension": ".py",
   "mimetype": "text/x-python",
   "name": "python",
   "nbconvert_exporter": "python",
   "pygments_lexer": "ipython3",
   "version": "3.8.2"
  }
 },
 "nbformat": 4,
 "nbformat_minor": 4
}
